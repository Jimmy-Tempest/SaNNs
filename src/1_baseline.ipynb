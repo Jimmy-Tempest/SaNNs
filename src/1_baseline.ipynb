{
  "cells": [
    {
      "cell_type": "markdown",
      "metadata": {
        "colab_type": "text",
        "id": "view-in-github"
      },
      "source": [
        "<a href=\"https://colab.research.google.com/github/Jimmy-Tempest/SaNNs/blob/main/src/1_baseline.ipynb\" target=\"_parent\"><img src=\"https://colab.research.google.com/assets/colab-badge.svg\" alt=\"Open In Colab\"/></a>"
      ]
    },
    {
      "cell_type": "code",
      "execution_count": 25,
      "metadata": {
        "id": "IOYeuhjRmQ_f"
      },
      "outputs": [],
      "source": [
        "import jax.numpy as np\n",
        "from jax import grad, jit, vmap"
      ]
    },
    {
      "cell_type": "code",
      "execution_count": 28,
      "metadata": {
        "id": "VM4Bl3iSmqtg"
      },
      "outputs": [],
      "source": [
        "# batch size of 1\n",
        "# inputs = np.array([1, 2, 3, 2.5])\n",
        "\n",
        "# batch size of 3\n",
        "inputs = np.array([\n",
        "    [1, 2, 3, 2.5],\n",
        "    [2, 5, -1, 2],\n",
        "    [-1.5, 2.7, 3.3, -0.8]\n",
        "])\n",
        "\n",
        "# neural network with one hidden layer and 3 neurons\n",
        "weights = np.array([\n",
        "    [0.2, 0.8, -0.5, 1.0],\n",
        "    [0.5, -0.91, 0.26, -0.5],\n",
        "    [-0.26, -0.27, 0.17, 0.87]\n",
        "])\n",
        "\n",
        "bias = np.array([2, 3, 0.5])"
      ]
    },
    {
      "cell_type": "code",
      "execution_count": 44,
      "metadata": {},
      "outputs": [],
      "source": [
        "calculate_layer = jit(lambda inputs, weights, bias: np.dot(inputs, weights.T) + bias)\n"
      ]
    },
    {
      "cell_type": "code",
      "execution_count": 45,
      "metadata": {
        "colab": {
          "base_uri": "https://localhost:8080/"
        },
        "id": "GCwuCXfnm9t2",
        "outputId": "cd170b95-ac6c-4189-bcff-f87d0da3c256"
      },
      "outputs": [],
      "source": [
        "output = calculate_layer(inputs, weights, bias)"
      ]
    },
    {
      "cell_type": "code",
      "execution_count": 46,
      "metadata": {},
      "outputs": [
        {
          "data": {
            "text/plain": [
              "DeviceArray([[ 4.8       ,  1.2099999 ,  2.385     ],\n",
              "             [ 8.9       , -1.8100004 ,  0.20000005],\n",
              "             [ 1.4100001 ,  1.051     ,  0.02599993]], dtype=float32)"
            ]
          },
          "execution_count": 46,
          "metadata": {},
          "output_type": "execute_result"
        }
      ],
      "source": [
        "output"
      ]
    },
    {
      "cell_type": "code",
      "execution_count": null,
      "metadata": {},
      "outputs": [],
      "source": []
    }
  ],
  "metadata": {
    "colab": {
      "authorship_tag": "ABX9TyNu55NyJv69W2JXYXMvpB4I",
      "include_colab_link": true,
      "name": "1_baseline.ipynb",
      "provenance": []
    },
    "kernelspec": {
      "display_name": "Python 3",
      "name": "python3"
    },
    "language_info": {
      "codemirror_mode": {
        "name": "ipython",
        "version": 3
      },
      "file_extension": ".py",
      "mimetype": "text/x-python",
      "name": "python",
      "nbconvert_exporter": "python",
      "pygments_lexer": "ipython3",
      "version": "3.8.9"
    }
  },
  "nbformat": 4,
  "nbformat_minor": 0
}
